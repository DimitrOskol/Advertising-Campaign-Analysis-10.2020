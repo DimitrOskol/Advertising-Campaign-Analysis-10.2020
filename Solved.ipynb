{
 "cells": [
  {
   "cell_type": "markdown",
   "metadata": {},
   "source": [
    "# Задача 1"
   ]
  },
  {
   "cell_type": "markdown",
   "metadata": {},
   "source": [
    "Преобразуем базу данных sqlite в pandas dataframe и меняем тип объектов в столбцах 'data' и 'ts' на datetime"
   ]
  },
  {
   "cell_type": "code",
   "execution_count": 1,
   "metadata": {},
   "outputs": [],
   "source": [
    "import sqlite3\n",
    "con = sqlite3.connect(\"db.db\")\n",
    "cur = con.cursor()\n",
    "import pandas as pd\n",
    "pddb_spent = pd.read_sql(\"SELECT * FROM spent\", con)\n",
    "pddb_pay = pd.read_sql(\"SELECT * FROM payments\", con)\n",
    "pddb_spent.date = pddb_spent.date.apply(pd.to_datetime)\n",
    "pddb_pay.date = pddb_pay.date.apply(pd.to_datetime)\n",
    "pddb_pay.ts = pddb_pay.ts.apply(pd.to_datetime)"
   ]
  },
  {
   "cell_type": "markdown",
   "metadata": {},
   "source": [
    "Находим макcимальное занчение date и ts"
   ]
  },
  {
   "cell_type": "code",
   "execution_count": 2,
   "metadata": {},
   "outputs": [
    {
     "data": {
      "text/plain": [
       "1531"
      ]
     },
     "execution_count": 2,
     "metadata": {},
     "output_type": "execute_result"
    }
   ],
   "source": [
    "pddb_pay.index[pddb_pay['date'].argmax()]"
   ]
  },
  {
   "cell_type": "code",
   "execution_count": 3,
   "metadata": {},
   "outputs": [
    {
     "data": {
      "text/plain": [
       "date    2020-08-14 00:00:00\n",
       "Name: 1531, dtype: object"
      ]
     },
     "execution_count": 3,
     "metadata": {},
     "output_type": "execute_result"
    }
   ],
   "source": [
    "pddb_pay.loc[1531, ['date']]"
   ]
  },
  {
   "cell_type": "code",
   "execution_count": 4,
   "metadata": {},
   "outputs": [
    {
     "data": {
      "text/plain": [
       "22"
      ]
     },
     "execution_count": 4,
     "metadata": {},
     "output_type": "execute_result"
    }
   ],
   "source": [
    "pddb_pay.index[pddb_pay['ts'].argmax()]"
   ]
  },
  {
   "cell_type": "code",
   "execution_count": 5,
   "metadata": {},
   "outputs": [
    {
     "data": {
      "text/plain": [
       "ts    2020-08-15 04:02:21.559178\n",
       "Name: 22, dtype: object"
      ]
     },
     "execution_count": 5,
     "metadata": {},
     "output_type": "execute_result"
    }
   ],
   "source": [
    "pddb_pay.loc[22, ['ts']]"
   ]
  },
  {
   "cell_type": "markdown",
   "metadata": {},
   "source": [
    "Последняя дата, на которую есть информация по дате установки программы 14.08.2020, а последний день сбора данных из трекинговой системы 15.08.2020. Значит мы можем точно посчитать ARPPU и roas_28d для дат установки с 01.06.2020 по 18.07.2020 включительно (15.08.2020 - 28 дней). Для этого отберем из таблицы Payments информацию для соответствующих дат и посчитаем ARPPU как отношение суммы app_revenue к сумме unique_purchases по операционным системам. Получаем 2 числа, они записаны в файле res1.txt. Средний платящий пользователь ios платит заметно больше, чем таковой на android."
   ]
  },
  {
   "cell_type": "code",
   "execution_count": 6,
   "metadata": {},
   "outputs": [
    {
     "name": "stdout",
     "output_type": "stream",
     "text": [
      "sum_revenue: 55802.103392000005\n"
     ]
    }
   ],
   "source": [
    "from datetime import timedelta, datetime\n",
    "pddb_pay_28d = pddb_pay[(pddb_pay.ts.subtract(pddb_pay.date) >= timedelta(28))]\n",
    "pddb_pay_28d = pddb_pay_28d.loc[pddb_pay_28d['app_revenue'] != 0]\n",
    "pddb_pay_28d = pddb_pay_28d.sort_values(by=['date', 'os', 'ts', 'country'])\n",
    "with open('pddb_pay_28d.txt', 'w') as f:\n",
    "    f.write(pddb_pay_28d.to_string(header = True, index = False))\n",
    "print('sum_revenue:', pddb_pay_28d.app_revenue.sum())"
   ]
  },
  {
   "cell_type": "code",
   "execution_count": 7,
   "metadata": {
    "scrolled": true
   },
   "outputs": [
    {
     "name": "stdout",
     "output_type": "stream",
     "text": [
      "arppu_andr:  17.841820437315636\n",
      "arppu_ios:  28.121525693060498\n"
     ]
    }
   ],
   "source": [
    "arppu_andr = pddb_pay_28d.loc[pddb_pay_28d['os'] != 'ios', 'app_revenue'].sum() / pddb_pay_28d.loc[pddb_pay_28d['os'] != 'ios', 'unique_purchases'].sum()\n",
    "arppu_ios = pddb_pay_28d.loc[pddb_pay_28d['os'] == 'ios', 'app_revenue'].sum() / pddb_pay_28d.loc[pddb_pay_28d['os'] == 'ios', 'unique_purchases'].sum()\n",
    "print('arppu_andr: ', arppu_andr)\n",
    "print('arppu_ios: ', arppu_ios)\n",
    "arppu = [arppu_andr, arppu_ios]\n",
    "f = open('res1.txt', 'w')\n",
    "f.write(str(arppu_andr)+\" \"+str(arppu_ios))\n",
    "f.close()"
   ]
  },
  {
   "cell_type": "markdown",
   "metadata": {},
   "source": [
    "Далее посчитаем суммы app_revenue по дням инсталла и операционным системам. В полученную таблицу добавим суммы средств потраченных на рекламу по дням расходования бюджета, чтобы посчитать roas_28d для каждой даты установки приложения с 01.06.2020 по 18.07.2020. Поскольку в данных трекинговой системы отсутствует информация в период с 27.06.2020 по 07.07.2020, попробуем их спрогнозировать основываясь на динамике показателя roas_28d."
   ]
  },
  {
   "cell_type": "code",
   "execution_count": 8,
   "metadata": {},
   "outputs": [],
   "source": [
    "roas_28d_count_andr = {}\n",
    "roas_28d_count_ios = {}\n",
    "dates_dict = {}\n",
    "for i in pddb_pay_28d.date:\n",
    "    count_andr = pddb_pay_28d.loc[(pddb_pay_28d['date'] == i) & (pddb_pay_28d['os'] != 'ios'), 'app_revenue'].sum()\n",
    "    roas_28d_count_andr[i] = count_andr\n",
    "    count_ios = pddb_pay_28d.loc[(pddb_pay_28d['date'] == i) & (pddb_pay_28d['os'] == 'ios'), 'app_revenue'].sum()\n",
    "    roas_28d_count_ios[i] = count_ios\n",
    "for i in pddb_pay_28d.date:\n",
    "    dates_dict[i] = i"
   ]
  },
  {
   "cell_type": "code",
   "execution_count": 9,
   "metadata": {},
   "outputs": [],
   "source": [
    "roas_28d = pd.DataFrame.from_dict(dates_dict, orient='index', columns=['date'])\n",
    "roas_28d['sum_revenue_andr'] = pd.Series(roas_28d_count_andr)\n",
    "roas_28d['sum_revenue_ios'] = pd.Series(roas_28d_count_ios)"
   ]
  },
  {
   "cell_type": "code",
   "execution_count": 11,
   "metadata": {},
   "outputs": [],
   "source": [
    "roas_28d_count_andr = {}\n",
    "roas_28d_count_ios = {}\n",
    "count = 0\n",
    "for i in pddb_pay_28d.date:\n",
    "    count_andr = pddb_spent.loc[(pddb_spent['date'] == i) & (pddb_spent['os'] != 'ios'), 'spend'].sum()\n",
    "    roas_28d_count_andr[i] = count_andr\n",
    "    count_ios = pddb_spent.loc[(pddb_spent['date'] == i) & (pddb_spent['os'] == 'ios'), 'spend'].sum()\n",
    "    roas_28d_count_ios[i] = count_ios"
   ]
  },
  {
   "cell_type": "code",
   "execution_count": 12,
   "metadata": {},
   "outputs": [],
   "source": [
    "roas_28d['sum_spent_andr'] = pd.Series(roas_28d_count_andr)\n",
    "roas_28d['sum_spent_ios'] = pd.Series(roas_28d_count_ios)"
   ]
  },
  {
   "cell_type": "code",
   "execution_count": 13,
   "metadata": {},
   "outputs": [],
   "source": [
    "roas_28d['roas_28d_andr'] = roas_28d['sum_revenue_andr'] / roas_28d['sum_spent_andr']\n",
    "roas_28d['roas_28d_ios'] = roas_28d['sum_revenue_ios'] / roas_28d['sum_spent_ios']"
   ]
  },
  {
   "cell_type": "code",
   "execution_count": 14,
   "metadata": {},
   "outputs": [],
   "source": [
    "roas_28d = roas_28d.sort_values(by=['date'])"
   ]
  },
  {
   "cell_type": "code",
   "execution_count": 16,
   "metadata": {},
   "outputs": [
    {
     "data": {
      "text/html": [
       "<div>\n",
       "<style scoped>\n",
       "    .dataframe tbody tr th:only-of-type {\n",
       "        vertical-align: middle;\n",
       "    }\n",
       "\n",
       "    .dataframe tbody tr th {\n",
       "        vertical-align: top;\n",
       "    }\n",
       "\n",
       "    .dataframe thead th {\n",
       "        text-align: right;\n",
       "    }\n",
       "</style>\n",
       "<table border=\"1\" class=\"dataframe\">\n",
       "  <thead>\n",
       "    <tr style=\"text-align: right;\">\n",
       "      <th></th>\n",
       "      <th>date</th>\n",
       "      <th>sum_revenue_andr</th>\n",
       "      <th>sum_revenue_ios</th>\n",
       "      <th>sum_spent_andr</th>\n",
       "      <th>sum_spent_ios</th>\n",
       "      <th>roas_28d_andr</th>\n",
       "      <th>roas_28d_ios</th>\n",
       "    </tr>\n",
       "  </thead>\n",
       "  <tbody>\n",
       "    <tr>\n",
       "      <th>2020-06-01</th>\n",
       "      <td>2020-06-01</td>\n",
       "      <td>2208.938254</td>\n",
       "      <td>1978.476830</td>\n",
       "      <td>2467.780046</td>\n",
       "      <td>2967.77000</td>\n",
       "      <td>0.895111</td>\n",
       "      <td>0.666654</td>\n",
       "    </tr>\n",
       "    <tr>\n",
       "      <th>2020-06-02</th>\n",
       "      <td>2020-06-02</td>\n",
       "      <td>3567.834776</td>\n",
       "      <td>3177.505735</td>\n",
       "      <td>3494.040010</td>\n",
       "      <td>3495.96000</td>\n",
       "      <td>1.021120</td>\n",
       "      <td>0.908908</td>\n",
       "    </tr>\n",
       "    <tr>\n",
       "      <th>2020-06-03</th>\n",
       "      <td>2020-06-03</td>\n",
       "      <td>2299.731097</td>\n",
       "      <td>1286.295997</td>\n",
       "      <td>3009.730000</td>\n",
       "      <td>2899.43000</td>\n",
       "      <td>0.764099</td>\n",
       "      <td>0.443638</td>\n",
       "    </tr>\n",
       "    <tr>\n",
       "      <th>2020-06-04</th>\n",
       "      <td>2020-06-04</td>\n",
       "      <td>1693.687620</td>\n",
       "      <td>1772.849179</td>\n",
       "      <td>1905.960000</td>\n",
       "      <td>2415.45000</td>\n",
       "      <td>0.888627</td>\n",
       "      <td>0.733962</td>\n",
       "    </tr>\n",
       "    <tr>\n",
       "      <th>2020-06-05</th>\n",
       "      <td>2020-06-05</td>\n",
       "      <td>1497.188086</td>\n",
       "      <td>1668.396440</td>\n",
       "      <td>1504.110000</td>\n",
       "      <td>1860.82000</td>\n",
       "      <td>0.995398</td>\n",
       "      <td>0.896592</td>\n",
       "    </tr>\n",
       "    <tr>\n",
       "      <th>2020-06-06</th>\n",
       "      <td>2020-06-06</td>\n",
       "      <td>1989.892110</td>\n",
       "      <td>2274.436798</td>\n",
       "      <td>2152.330000</td>\n",
       "      <td>2635.68000</td>\n",
       "      <td>0.924529</td>\n",
       "      <td>0.862941</td>\n",
       "    </tr>\n",
       "    <tr>\n",
       "      <th>2020-06-07</th>\n",
       "      <td>2020-06-07</td>\n",
       "      <td>2034.304230</td>\n",
       "      <td>2986.215840</td>\n",
       "      <td>2234.040000</td>\n",
       "      <td>2810.11977</td>\n",
       "      <td>0.910594</td>\n",
       "      <td>1.062665</td>\n",
       "    </tr>\n",
       "    <tr>\n",
       "      <th>2020-06-08</th>\n",
       "      <td>2020-06-08</td>\n",
       "      <td>1199.214612</td>\n",
       "      <td>2323.964857</td>\n",
       "      <td>1549.220000</td>\n",
       "      <td>2065.36000</td>\n",
       "      <td>0.774076</td>\n",
       "      <td>1.125211</td>\n",
       "    </tr>\n",
       "    <tr>\n",
       "      <th>2020-06-09</th>\n",
       "      <td>2020-06-09</td>\n",
       "      <td>672.994146</td>\n",
       "      <td>1807.677200</td>\n",
       "      <td>1057.439984</td>\n",
       "      <td>1444.27000</td>\n",
       "      <td>0.636437</td>\n",
       "      <td>1.251620</td>\n",
       "    </tr>\n",
       "    <tr>\n",
       "      <th>2020-06-10</th>\n",
       "      <td>2020-06-10</td>\n",
       "      <td>736.576090</td>\n",
       "      <td>1723.352730</td>\n",
       "      <td>1059.900000</td>\n",
       "      <td>1525.44000</td>\n",
       "      <td>0.694949</td>\n",
       "      <td>1.129741</td>\n",
       "    </tr>\n",
       "    <tr>\n",
       "      <th>2020-06-11</th>\n",
       "      <td>2020-06-11</td>\n",
       "      <td>481.384510</td>\n",
       "      <td>505.157050</td>\n",
       "      <td>893.960300</td>\n",
       "      <td>1264.59000</td>\n",
       "      <td>0.538485</td>\n",
       "      <td>0.399463</td>\n",
       "    </tr>\n",
       "    <tr>\n",
       "      <th>2020-06-12</th>\n",
       "      <td>2020-06-12</td>\n",
       "      <td>846.032800</td>\n",
       "      <td>1132.644460</td>\n",
       "      <td>792.440000</td>\n",
       "      <td>1200.56000</td>\n",
       "      <td>1.067630</td>\n",
       "      <td>0.943430</td>\n",
       "    </tr>\n",
       "    <tr>\n",
       "      <th>2020-06-13</th>\n",
       "      <td>2020-06-13</td>\n",
       "      <td>1496.052150</td>\n",
       "      <td>499.766040</td>\n",
       "      <td>844.540000</td>\n",
       "      <td>1090.28000</td>\n",
       "      <td>1.771440</td>\n",
       "      <td>0.458383</td>\n",
       "    </tr>\n",
       "    <tr>\n",
       "      <th>2020-06-14</th>\n",
       "      <td>2020-06-14</td>\n",
       "      <td>219.158511</td>\n",
       "      <td>462.124040</td>\n",
       "      <td>502.239890</td>\n",
       "      <td>638.48000</td>\n",
       "      <td>0.436362</td>\n",
       "      <td>0.723788</td>\n",
       "    </tr>\n",
       "    <tr>\n",
       "      <th>2020-06-15</th>\n",
       "      <td>2020-06-15</td>\n",
       "      <td>131.732130</td>\n",
       "      <td>110.897910</td>\n",
       "      <td>109.620000</td>\n",
       "      <td>48.45000</td>\n",
       "      <td>1.201716</td>\n",
       "      <td>2.288915</td>\n",
       "    </tr>\n",
       "    <tr>\n",
       "      <th>2020-06-16</th>\n",
       "      <td>2020-06-16</td>\n",
       "      <td>179.929200</td>\n",
       "      <td>45.439788</td>\n",
       "      <td>119.050000</td>\n",
       "      <td>64.44000</td>\n",
       "      <td>1.511375</td>\n",
       "      <td>0.705149</td>\n",
       "    </tr>\n",
       "    <tr>\n",
       "      <th>2020-06-17</th>\n",
       "      <td>2020-06-17</td>\n",
       "      <td>58.151140</td>\n",
       "      <td>147.570000</td>\n",
       "      <td>84.820000</td>\n",
       "      <td>84.10000</td>\n",
       "      <td>0.685583</td>\n",
       "      <td>1.754697</td>\n",
       "    </tr>\n",
       "    <tr>\n",
       "      <th>2020-06-18</th>\n",
       "      <td>2020-06-18</td>\n",
       "      <td>3.497910</td>\n",
       "      <td>71.850000</td>\n",
       "      <td>51.500000</td>\n",
       "      <td>59.34000</td>\n",
       "      <td>0.067921</td>\n",
       "      <td>1.210819</td>\n",
       "    </tr>\n",
       "    <tr>\n",
       "      <th>2020-06-19</th>\n",
       "      <td>2020-06-19</td>\n",
       "      <td>9.460000</td>\n",
       "      <td>0.000000</td>\n",
       "      <td>107.050000</td>\n",
       "      <td>51.89000</td>\n",
       "      <td>0.088370</td>\n",
       "      <td>0.000000</td>\n",
       "    </tr>\n",
       "    <tr>\n",
       "      <th>2020-06-20</th>\n",
       "      <td>2020-06-20</td>\n",
       "      <td>30.149780</td>\n",
       "      <td>77.755800</td>\n",
       "      <td>124.830000</td>\n",
       "      <td>83.21000</td>\n",
       "      <td>0.241527</td>\n",
       "      <td>0.934453</td>\n",
       "    </tr>\n",
       "    <tr>\n",
       "      <th>2020-06-21</th>\n",
       "      <td>2020-06-21</td>\n",
       "      <td>76.797691</td>\n",
       "      <td>128.631800</td>\n",
       "      <td>174.240000</td>\n",
       "      <td>67.23000</td>\n",
       "      <td>0.440758</td>\n",
       "      <td>1.913310</td>\n",
       "    </tr>\n",
       "    <tr>\n",
       "      <th>2020-06-22</th>\n",
       "      <td>2020-06-22</td>\n",
       "      <td>7.878520</td>\n",
       "      <td>42.900000</td>\n",
       "      <td>17.270000</td>\n",
       "      <td>17.14000</td>\n",
       "      <td>0.456197</td>\n",
       "      <td>2.502917</td>\n",
       "    </tr>\n",
       "    <tr>\n",
       "      <th>2020-06-25</th>\n",
       "      <td>2020-06-25</td>\n",
       "      <td>60.251000</td>\n",
       "      <td>0.000000</td>\n",
       "      <td>25.960000</td>\n",
       "      <td>0.00000</td>\n",
       "      <td>2.320917</td>\n",
       "      <td>NaN</td>\n",
       "    </tr>\n",
       "    <tr>\n",
       "      <th>2020-06-26</th>\n",
       "      <td>2020-06-26</td>\n",
       "      <td>5.468200</td>\n",
       "      <td>0.000000</td>\n",
       "      <td>0.000000</td>\n",
       "      <td>0.00000</td>\n",
       "      <td>inf</td>\n",
       "      <td>NaN</td>\n",
       "    </tr>\n",
       "    <tr>\n",
       "      <th>2020-07-08</th>\n",
       "      <td>2020-07-08</td>\n",
       "      <td>301.610000</td>\n",
       "      <td>176.610000</td>\n",
       "      <td>65.670000</td>\n",
       "      <td>65.29000</td>\n",
       "      <td>4.592813</td>\n",
       "      <td>2.705008</td>\n",
       "    </tr>\n",
       "    <tr>\n",
       "      <th>2020-07-09</th>\n",
       "      <td>2020-07-09</td>\n",
       "      <td>240.735660</td>\n",
       "      <td>91.133620</td>\n",
       "      <td>265.450000</td>\n",
       "      <td>330.73000</td>\n",
       "      <td>0.906896</td>\n",
       "      <td>0.275553</td>\n",
       "    </tr>\n",
       "    <tr>\n",
       "      <th>2020-07-10</th>\n",
       "      <td>2020-07-10</td>\n",
       "      <td>290.489250</td>\n",
       "      <td>807.279650</td>\n",
       "      <td>377.539954</td>\n",
       "      <td>471.14000</td>\n",
       "      <td>0.769427</td>\n",
       "      <td>1.713460</td>\n",
       "    </tr>\n",
       "    <tr>\n",
       "      <th>2020-07-11</th>\n",
       "      <td>2020-07-11</td>\n",
       "      <td>230.316220</td>\n",
       "      <td>2202.080640</td>\n",
       "      <td>418.160000</td>\n",
       "      <td>776.02000</td>\n",
       "      <td>0.550785</td>\n",
       "      <td>2.837660</td>\n",
       "    </tr>\n",
       "    <tr>\n",
       "      <th>2020-07-12</th>\n",
       "      <td>2020-07-12</td>\n",
       "      <td>200.013980</td>\n",
       "      <td>830.555160</td>\n",
       "      <td>388.980000</td>\n",
       "      <td>981.56000</td>\n",
       "      <td>0.514201</td>\n",
       "      <td>0.846158</td>\n",
       "    </tr>\n",
       "    <tr>\n",
       "      <th>2020-07-13</th>\n",
       "      <td>2020-07-13</td>\n",
       "      <td>89.426840</td>\n",
       "      <td>407.926740</td>\n",
       "      <td>168.780000</td>\n",
       "      <td>681.09000</td>\n",
       "      <td>0.529843</td>\n",
       "      <td>0.598932</td>\n",
       "    </tr>\n",
       "    <tr>\n",
       "      <th>2020-07-14</th>\n",
       "      <td>2020-07-14</td>\n",
       "      <td>221.548300</td>\n",
       "      <td>509.984790</td>\n",
       "      <td>225.630000</td>\n",
       "      <td>544.64000</td>\n",
       "      <td>0.981910</td>\n",
       "      <td>0.936370</td>\n",
       "    </tr>\n",
       "    <tr>\n",
       "      <th>2020-07-15</th>\n",
       "      <td>2020-07-15</td>\n",
       "      <td>98.280000</td>\n",
       "      <td>451.553400</td>\n",
       "      <td>424.620000</td>\n",
       "      <td>621.16000</td>\n",
       "      <td>0.231454</td>\n",
       "      <td>0.726952</td>\n",
       "    </tr>\n",
       "    <tr>\n",
       "      <th>2020-07-16</th>\n",
       "      <td>2020-07-16</td>\n",
       "      <td>196.671120</td>\n",
       "      <td>366.813210</td>\n",
       "      <td>501.459608</td>\n",
       "      <td>642.76000</td>\n",
       "      <td>0.392197</td>\n",
       "      <td>0.570685</td>\n",
       "    </tr>\n",
       "    <tr>\n",
       "      <th>2020-07-17</th>\n",
       "      <td>2020-07-17</td>\n",
       "      <td>261.643760</td>\n",
       "      <td>397.685135</td>\n",
       "      <td>541.120000</td>\n",
       "      <td>625.28000</td>\n",
       "      <td>0.483523</td>\n",
       "      <td>0.636011</td>\n",
       "    </tr>\n",
       "    <tr>\n",
       "      <th>2020-07-18</th>\n",
       "      <td>2020-07-18</td>\n",
       "      <td>556.468820</td>\n",
       "      <td>1143.064040</td>\n",
       "      <td>735.300000</td>\n",
       "      <td>608.59000</td>\n",
       "      <td>0.756792</td>\n",
       "      <td>1.878217</td>\n",
       "    </tr>\n",
       "  </tbody>\n",
       "</table>\n",
       "</div>"
      ],
      "text/plain": [
       "                 date  sum_revenue_andr  sum_revenue_ios  sum_spent_andr  \\\n",
       "2020-06-01 2020-06-01       2208.938254      1978.476830     2467.780046   \n",
       "2020-06-02 2020-06-02       3567.834776      3177.505735     3494.040010   \n",
       "2020-06-03 2020-06-03       2299.731097      1286.295997     3009.730000   \n",
       "2020-06-04 2020-06-04       1693.687620      1772.849179     1905.960000   \n",
       "2020-06-05 2020-06-05       1497.188086      1668.396440     1504.110000   \n",
       "2020-06-06 2020-06-06       1989.892110      2274.436798     2152.330000   \n",
       "2020-06-07 2020-06-07       2034.304230      2986.215840     2234.040000   \n",
       "2020-06-08 2020-06-08       1199.214612      2323.964857     1549.220000   \n",
       "2020-06-09 2020-06-09        672.994146      1807.677200     1057.439984   \n",
       "2020-06-10 2020-06-10        736.576090      1723.352730     1059.900000   \n",
       "2020-06-11 2020-06-11        481.384510       505.157050      893.960300   \n",
       "2020-06-12 2020-06-12        846.032800      1132.644460      792.440000   \n",
       "2020-06-13 2020-06-13       1496.052150       499.766040      844.540000   \n",
       "2020-06-14 2020-06-14        219.158511       462.124040      502.239890   \n",
       "2020-06-15 2020-06-15        131.732130       110.897910      109.620000   \n",
       "2020-06-16 2020-06-16        179.929200        45.439788      119.050000   \n",
       "2020-06-17 2020-06-17         58.151140       147.570000       84.820000   \n",
       "2020-06-18 2020-06-18          3.497910        71.850000       51.500000   \n",
       "2020-06-19 2020-06-19          9.460000         0.000000      107.050000   \n",
       "2020-06-20 2020-06-20         30.149780        77.755800      124.830000   \n",
       "2020-06-21 2020-06-21         76.797691       128.631800      174.240000   \n",
       "2020-06-22 2020-06-22          7.878520        42.900000       17.270000   \n",
       "2020-06-25 2020-06-25         60.251000         0.000000       25.960000   \n",
       "2020-06-26 2020-06-26          5.468200         0.000000        0.000000   \n",
       "2020-07-08 2020-07-08        301.610000       176.610000       65.670000   \n",
       "2020-07-09 2020-07-09        240.735660        91.133620      265.450000   \n",
       "2020-07-10 2020-07-10        290.489250       807.279650      377.539954   \n",
       "2020-07-11 2020-07-11        230.316220      2202.080640      418.160000   \n",
       "2020-07-12 2020-07-12        200.013980       830.555160      388.980000   \n",
       "2020-07-13 2020-07-13         89.426840       407.926740      168.780000   \n",
       "2020-07-14 2020-07-14        221.548300       509.984790      225.630000   \n",
       "2020-07-15 2020-07-15         98.280000       451.553400      424.620000   \n",
       "2020-07-16 2020-07-16        196.671120       366.813210      501.459608   \n",
       "2020-07-17 2020-07-17        261.643760       397.685135      541.120000   \n",
       "2020-07-18 2020-07-18        556.468820      1143.064040      735.300000   \n",
       "\n",
       "            sum_spent_ios  roas_28d_andr  roas_28d_ios  \n",
       "2020-06-01     2967.77000       0.895111      0.666654  \n",
       "2020-06-02     3495.96000       1.021120      0.908908  \n",
       "2020-06-03     2899.43000       0.764099      0.443638  \n",
       "2020-06-04     2415.45000       0.888627      0.733962  \n",
       "2020-06-05     1860.82000       0.995398      0.896592  \n",
       "2020-06-06     2635.68000       0.924529      0.862941  \n",
       "2020-06-07     2810.11977       0.910594      1.062665  \n",
       "2020-06-08     2065.36000       0.774076      1.125211  \n",
       "2020-06-09     1444.27000       0.636437      1.251620  \n",
       "2020-06-10     1525.44000       0.694949      1.129741  \n",
       "2020-06-11     1264.59000       0.538485      0.399463  \n",
       "2020-06-12     1200.56000       1.067630      0.943430  \n",
       "2020-06-13     1090.28000       1.771440      0.458383  \n",
       "2020-06-14      638.48000       0.436362      0.723788  \n",
       "2020-06-15       48.45000       1.201716      2.288915  \n",
       "2020-06-16       64.44000       1.511375      0.705149  \n",
       "2020-06-17       84.10000       0.685583      1.754697  \n",
       "2020-06-18       59.34000       0.067921      1.210819  \n",
       "2020-06-19       51.89000       0.088370      0.000000  \n",
       "2020-06-20       83.21000       0.241527      0.934453  \n",
       "2020-06-21       67.23000       0.440758      1.913310  \n",
       "2020-06-22       17.14000       0.456197      2.502917  \n",
       "2020-06-25        0.00000       2.320917           NaN  \n",
       "2020-06-26        0.00000            inf           NaN  \n",
       "2020-07-08       65.29000       4.592813      2.705008  \n",
       "2020-07-09      330.73000       0.906896      0.275553  \n",
       "2020-07-10      471.14000       0.769427      1.713460  \n",
       "2020-07-11      776.02000       0.550785      2.837660  \n",
       "2020-07-12      981.56000       0.514201      0.846158  \n",
       "2020-07-13      681.09000       0.529843      0.598932  \n",
       "2020-07-14      544.64000       0.981910      0.936370  \n",
       "2020-07-15      621.16000       0.231454      0.726952  \n",
       "2020-07-16      642.76000       0.392197      0.570685  \n",
       "2020-07-17      625.28000       0.483523      0.636011  \n",
       "2020-07-18      608.59000       0.756792      1.878217  "
      ]
     },
     "execution_count": 16,
     "metadata": {},
     "output_type": "execute_result"
    }
   ],
   "source": [
    "roas_28d"
   ]
  },
  {
   "cell_type": "code",
   "execution_count": 17,
   "metadata": {},
   "outputs": [
    {
     "name": "stdout",
     "output_type": "stream",
     "text": [
      "roas_28d_june_andr 0.88568661400334\n",
      "roas_28d_june_ios 0.8413998010949616\n",
      "roas_28d_july_andr 0.6533901578727626\n",
      "roas_28d_july_ios 1.163261489762549\n",
      "K_grouth_andr -0.26227838657353975\n",
      "K_grouth_ios 0.3825312155395455\n"
     ]
    }
   ],
   "source": [
    "roas_28d_june_andr = roas_28d.loc[(roas_28d['date'] >= datetime(2020,6,1)) & (roas_28d['date'] < datetime(2020,7,1)), 'sum_revenue_andr'].sum() / roas_28d.loc[(roas_28d['date'] >= datetime(2020,6,1)) & (roas_28d['date'] < datetime(2020,7,1)), 'sum_spent_andr'].sum()\n",
    "print('roas_28d_june_andr', roas_28d_june_andr)\n",
    "roas_28d_june_ios = roas_28d.loc[(roas_28d['date'] >= datetime(2020,6,1)) & (roas_28d['date'] < datetime(2020,7,1)), 'sum_revenue_ios'].sum() / roas_28d.loc[(roas_28d['date'] >= datetime(2020,6,1)) & (roas_28d['date'] < datetime(2020,7,1)), 'sum_spent_ios'].sum()\n",
    "print('roas_28d_june_ios', roas_28d_june_ios)\n",
    "\n",
    "roas_28d_july_andr = roas_28d.loc[(roas_28d['date'] >= datetime(2020,7,1)) & (roas_28d['date'] < datetime(2020,7,19)), 'sum_revenue_andr'].sum() / roas_28d.loc[(roas_28d['date'] >= datetime(2020,7,1)) & (roas_28d['date'] < datetime(2020,7,19)), 'sum_spent_andr'].sum()\n",
    "print('roas_28d_july_andr', roas_28d_july_andr)\n",
    "roas_28d_july_ios = roas_28d.loc[(roas_28d['date'] >= datetime(2020,7,1)) & (roas_28d['date'] < datetime(2020,7,19)), 'sum_revenue_ios'].sum() / roas_28d.loc[(roas_28d['date'] >= datetime(2020,7,1)) & (roas_28d['date'] < datetime(2020,7,19)), 'sum_spent_ios'].sum()\n",
    "print('roas_28d_july_ios', roas_28d_july_ios)\n",
    "\n",
    "K_grouth_andr = (roas_28d_july_andr - roas_28d_june_andr) / roas_28d_june_andr\n",
    "K_grouth_ios = (roas_28d_july_ios - roas_28d_june_ios) / roas_28d_june_ios\n",
    "print('K_grouth_andr', K_grouth_andr)\n",
    "print('K_grouth_ios', K_grouth_ios)\n",
    "f = open('res2.txt', 'w')\n",
    "f.write(str(K_grouth_andr)+\" \"+str(K_grouth_ios))\n",
    "f.close()"
   ]
  },
  {
   "cell_type": "markdown",
   "metadata": {},
   "source": [
    "Коэффициенты роста (снижения при отрицательном значении) roas_28d для android и ios операционных систем установки приложения в июле по сравнению с июнем сохранены в прилагающийся файл res2.txt.\n",
    "Сначала хотел построить график зависимости roas_28d_andr и roas_28d_ios от даты инсталла, чтобы прикинуть недостающие значения в начале и в конце июля... Но, мне кажется, это не имеет смысла... В целом, очевидно, что roas_28d меньше 1.2 почти по всем дням инсталла,и в среднем по месяцам, и показатели июля хуже, чем июня. Однако roas_28d для ios значительно вырос в июле по сравнению с июнем, вероятно, это вызвано увеличением числа конверсий установок приложения в покупки, что будет показано ниже. Но при существенном снижении абсолютных показателей выручки в июле по сравнению с июнем, не вижу повода сильно радоваться увеличению относительного показателя. Можно попробовать проанализировать, что особенного происходило в даты установки, по которым показатели roas_28d высокие, возможно, есть отличия в видах рекламы, или еще что-то, что сработало, и надо это внедрять шире. Считаю необходимым в первую очередь разбираться с тем, в каких странах и на каких операционных системах рекламная компания окупается и приносит результаты. Для этого составим таблицу, в которой для каждой страны найдем суммарные значения app_revenue и spent и roas_28d от них."
   ]
  },
  {
   "cell_type": "code",
   "execution_count": 18,
   "metadata": {},
   "outputs": [],
   "source": [
    "countries_all = pddb_spent['country'].to_list()\n",
    "countries_all = list(set(countries_all))\n",
    "countries_all.sort()"
   ]
  },
  {
   "cell_type": "code",
   "execution_count": 19,
   "metadata": {},
   "outputs": [],
   "source": [
    "pddb_spent_28d = pddb_spent.loc[pddb_spent['date'] < datetime(2020,7,19)]\n",
    "with open('pddb_spent_28d.txt', 'w') as f:\n",
    "    f.write(pddb_spent_28d.to_string(header = True, index = False))"
   ]
  },
  {
   "cell_type": "code",
   "execution_count": 20,
   "metadata": {},
   "outputs": [],
   "source": [
    "pddb_joined = pd.merge(pddb_pay_28d, pddb_spent_28d, how='outer', on=['date', 'country', 'os'])\n",
    "pddb_joined = pddb_joined.fillna(0)\n",
    "pddb_joined = pddb_joined.loc[pddb_joined['impressions'] != 0]\n",
    "pddb_joined = pddb_joined.sort_values(by=['country', 'os','date'])\n",
    "with open('pddb_joined.txt', 'w') as f:\n",
    "    f.write(pddb_joined.to_string(header = True, index = False))\n"
   ]
  },
  {
   "cell_type": "code",
   "execution_count": 21,
   "metadata": {},
   "outputs": [],
   "source": [
    "pddb_joined_andr = pddb_joined.loc[pddb_joined['os'] != 'ios']\n",
    "columns = ['purchases', 'unique_purchases', 'installs', 'app_revenue', 'spend', 'impressions', 'clicks']\n",
    "\n",
    "countries_summary_andr = pd.DataFrame(countries_all, columns =['country'])\n",
    "\n",
    "for clmn in columns:\n",
    "    count = 0\n",
    "    count_list = []\n",
    "    for cntry in countries_all:\n",
    "        count = pddb_joined_andr.loc[pddb_joined_andr['country'] == cntry, clmn].sum()\n",
    "        count_list.append(count)\n",
    "    countries_summary_andr[clmn] = pd.Series(count_list)\n",
    "\n",
    "countries_summary_andr['roas28d'] = countries_summary_andr['app_revenue'] / countries_summary_andr['spend']\n",
    "countries_summary_andr['profit'] = countries_summary_andr['app_revenue'] - countries_summary_andr['spend']\n",
    "\n",
    "countries_summary_andr = countries_summary_andr.sort_values(by=['roas28d'], ascending=False)\n",
    "    \n",
    "with open('countries_summary_andr.txt', 'w') as f:\n",
    "    f.write(countries_summary_andr.to_string(header = True, index = False))"
   ]
  },
  {
   "cell_type": "code",
   "execution_count": 22,
   "metadata": {},
   "outputs": [],
   "source": [
    "pddb_joined_ios = pddb_joined.loc[pddb_joined['os'] == 'ios']\n",
    "columns = ['purchases', 'unique_purchases', 'installs', 'app_revenue', 'spend', 'impressions', 'clicks']\n",
    "\n",
    "countries_summary_ios = pd.DataFrame(countries_all, columns =['country'])\n",
    "\n",
    "for clmn in columns:\n",
    "    count = 0\n",
    "    count_list = []\n",
    "    for cntry in countries_all:\n",
    "        count = pddb_joined_ios.loc[pddb_joined_ios['country'] == cntry, clmn].sum()\n",
    "        count_list.append(count)\n",
    "    countries_summary_ios[clmn] = pd.Series(count_list)\n",
    "    \n",
    "countries_summary_ios['roas28d'] = countries_summary_ios['app_revenue'] / countries_summary_ios['spend']\n",
    "countries_summary_ios['profit'] = countries_summary_ios['app_revenue'] - countries_summary_ios['spend']\n",
    "\n",
    "countries_summary_ios = countries_summary_ios.sort_values(by=['roas28d'], ascending=False)\n",
    "    \n",
    "with open('countries_summary_ios.txt', 'w') as f:\n",
    "    f.write(countries_summary_ios.to_string(header = True, index = False))"
   ]
  },
  {
   "cell_type": "code",
   "execution_count": 23,
   "metadata": {},
   "outputs": [],
   "source": [
    "pddb_joined_andr.to_excel('./pddb_joined_andr.xlsx')"
   ]
  },
  {
   "cell_type": "code",
   "execution_count": 24,
   "metadata": {},
   "outputs": [],
   "source": [
    "pddb_joined_ios.to_excel('./pddb_joined_ios.xlsx')"
   ]
  },
  {
   "cell_type": "markdown",
   "metadata": {},
   "source": [
    "Проанализируем полученные таблицы countries_summary_andr и countries_summary_ios (файлы с соответствующими именами .txt прилагаются). Они отсортированы по roas_28d. Очевидно, что странами, где проведены самые эффективные и прибыльные рекламные кампании являются CH, AU и RU для приложения на android, и BE, DE, FR для приложения на ios. Roas_28d больше 1,2 для 21 страны для приложения на android и для 19 стран для приложения на ios. Но в некоторых из них абсолютные цифры выручки и прибыли очень малы, поэтому не стоит на них обращать большого внимания и делать ставку, просто поддерживать имеющийся уровень и, может быть, немного его повышать. Считаю необходимым уделить основное внимание странам типа US где большие объемы продаж, но нет прибыли из-за ещё бОльших вложений в рекламу. Можно посмотреть данную таблицу в динамике, например, в разбивке по неделям (поскольку по месяцам нет полных данных за июль, мне кажется, по неделям будет более информативно) и понять тренд - уменьшаются ли расходы на рекламу и что при этом происходит с выручкой от продаж. По-моему, этот анализ выходит за рамки Задач, если нужно, его можно быстро провести на основе имеющегося кода.\n"
   ]
  },
  {
   "cell_type": "markdown",
   "metadata": {},
   "source": [
    "Построим воронку конверсий."
   ]
  },
  {
   "cell_type": "code",
   "execution_count": 25,
   "metadata": {},
   "outputs": [
    {
     "name": "stdout",
     "output_type": "stream",
     "text": [
      "sum_impressions_june_andr:  7726096\n",
      "sum_impressions_june_ios:  5794299\n",
      "sum_clicks_june_andr:  145263\n",
      "sum_clicks_june_ios:  88506\n",
      "sum_installs_june_andr:  53271\n",
      "sum_installs_june_ios:  25055\n",
      "sum_purchases_june_andr:  7109\n",
      "sum_purchases_june_ios:  5978\n",
      "sum_impressions_july_andr:  522560\n",
      "sum_impressions_july_ios:  660748\n",
      "sum_clicks_july_andr:  9204\n",
      "sum_clicks_july_ios:  10084\n",
      "sum_installs_july_andr:  3633\n",
      "sum_installs_july_ios:  2917\n",
      "sum_purchases_july_andr:  750\n",
      "sum_purchases_july_ios:  1625\n"
     ]
    }
   ],
   "source": [
    "def sum (df, os, date_start, date_end, column):\n",
    "    sum = df.loc[(df['os'] == os) & (df.date >= date_start) & (df.date < date_end), column].sum()\n",
    "    return sum\n",
    "\n",
    "sum_impressions_june_andr = sum(pddb_spent, 'android', datetime(2020,6,1), datetime(2020,7,1), 'impressions')\n",
    "print('sum_impressions_june_andr: ', sum_impressions_june_andr)\n",
    "sum_impressions_june_ios = sum(pddb_spent, 'ios', datetime(2020,6,1), datetime(2020,7,1), 'impressions')\n",
    "print('sum_impressions_june_ios: ', sum_impressions_june_ios)\n",
    "\n",
    "sum_clicks_june_andr = sum(pddb_spent, 'android', datetime(2020,6,1), datetime(2020,7,1), 'clicks')\n",
    "print('sum_clicks_june_andr: ', sum_clicks_june_andr)\n",
    "sum_clicks_june_ios = sum(pddb_spent, 'ios', datetime(2020,6,1), datetime(2020,7,1), 'clicks')\n",
    "print('sum_clicks_june_ios: ', sum_clicks_june_ios)\n",
    "\n",
    "sum_installs_june_andr = sum(pddb_spent, 'android', datetime(2020,6,1), datetime(2020,7,1), 'installs')\n",
    "print('sum_installs_june_andr: ', sum_installs_june_andr)\n",
    "sum_installs_june_ios = sum(pddb_spent, 'ios', datetime(2020,6,1), datetime(2020,7,1), 'installs')\n",
    "print('sum_installs_june_ios: ', sum_installs_june_ios)\n",
    "\n",
    "pddb_pay_28d = pddb_pay[(pddb_pay.ts.subtract(pddb_pay.date) >= timedelta(28))]\n",
    "\n",
    "sum_purchases_june_andr = sum(pddb_pay_28d, 'android', datetime(2020,6,1), datetime(2020,7,1), 'purchases')\n",
    "print('sum_purchases_june_andr: ', sum_purchases_june_andr)\n",
    "sum_purchases_june_ios = sum(pddb_pay_28d, 'ios', datetime(2020,6,1), datetime(2020,7,1), 'purchases')\n",
    "print('sum_purchases_june_ios: ', sum_purchases_june_ios)\n",
    "\n",
    "sum_impressions_july_andr = sum(pddb_spent, 'android', datetime(2020,7,1), datetime(2020,7,19), 'impressions')\n",
    "print('sum_impressions_july_andr: ', sum_impressions_july_andr)\n",
    "sum_impressions_july_ios = sum(pddb_spent, 'ios', datetime(2020,7,1), datetime(2020,7,19), 'impressions')\n",
    "print('sum_impressions_july_ios: ', sum_impressions_july_ios)\n",
    "\n",
    "sum_clicks_july_andr = sum(pddb_spent, 'android', datetime(2020,7,1), datetime(2020,7,19), 'clicks')\n",
    "print('sum_clicks_july_andr: ', sum_clicks_july_andr)\n",
    "sum_clicks_july_ios = sum(pddb_spent, 'ios', datetime(2020,7,1), datetime(2020,7,19), 'clicks')\n",
    "print('sum_clicks_july_ios: ', sum_clicks_july_ios)\n",
    "\n",
    "sum_installs_july_andr = sum(pddb_spent, 'android', datetime(2020,7,1), datetime(2020,7,19), 'installs')\n",
    "print('sum_installs_july_andr: ', sum_installs_july_andr)\n",
    "sum_installs_july_ios = sum(pddb_spent, 'ios', datetime(2020,7,1), datetime(2020,7,19), 'installs')\n",
    "print('sum_installs_july_ios: ', sum_installs_july_ios)\n",
    "\n",
    "sum_purchases_july_andr = sum(pddb_pay_28d, 'android', datetime(2020,7,1), datetime(2020,7,19), 'purchases')\n",
    "print('sum_purchases_july_andr: ', sum_purchases_july_andr)\n",
    "sum_purchases_july_ios = sum(pddb_pay_28d, 'ios', datetime(2020,7,1), datetime(2020,7,19), 'purchases')\n",
    "print('sum_purchases_july_ios: ', sum_purchases_july_ios)"
   ]
  },
  {
   "cell_type": "code",
   "execution_count": 26,
   "metadata": {},
   "outputs": [
    {
     "name": "stdout",
     "output_type": "stream",
     "text": [
      "conv_1_june_andr:  1.8801604329016879\n",
      "conv_1_june_ios:  1.527466911873205\n",
      "conv_2_june_andr:  36.67210507837508\n",
      "conv_2_june_ios:  28.308815221566903\n",
      "conv_3_june_andr:  13.344971935950142\n",
      "conv_3_june_ios:  23.859509080023948\n"
     ]
    }
   ],
   "source": [
    "conv_1_june_andr = sum_clicks_june_andr / sum_impressions_june_andr *100\n",
    "print('conv_1_june_andr: ', conv_1_june_andr)\n",
    "\n",
    "conv_1_june_ios = sum_clicks_june_ios / sum_impressions_june_ios *100\n",
    "print('conv_1_june_ios: ', conv_1_june_ios)\n",
    "\n",
    "conv_2_june_andr = sum_installs_june_andr / sum_clicks_june_andr *100\n",
    "print('conv_2_june_andr: ', conv_2_june_andr)\n",
    "\n",
    "conv_2_june_ios = sum_installs_june_ios / sum_clicks_june_ios *100\n",
    "print('conv_2_june_ios: ', conv_2_june_ios)\n",
    "\n",
    "conv_3_june_andr = sum_purchases_june_andr / sum_installs_june_andr *100\n",
    "print('conv_3_june_andr: ', conv_3_june_andr)\n",
    "\n",
    "conv_3_june_ios = sum_purchases_june_ios / sum_installs_june_ios *100\n",
    "print('conv_3_june_ios: ', conv_3_june_ios)"
   ]
  },
  {
   "cell_type": "code",
   "execution_count": 27,
   "metadata": {},
   "outputs": [
    {
     "name": "stdout",
     "output_type": "stream",
     "text": [
      "conv_1_july_andr:  1.761328842620943\n",
      "conv_1_july_ios:  1.5261491521729917\n",
      "conv_2_july_andr:  39.47196870925684\n",
      "conv_2_july_ios:  28.927013090043634\n",
      "conv_3_july_andr:  20.644095788604456\n",
      "conv_3_july_ios:  55.70791909496058\n"
     ]
    }
   ],
   "source": [
    "conv_1_july_andr = sum_clicks_july_andr / sum_impressions_july_andr *100\n",
    "print('conv_1_july_andr: ', conv_1_july_andr)\n",
    "\n",
    "conv_1_july_ios = sum_clicks_july_ios / sum_impressions_july_ios *100\n",
    "print('conv_1_july_ios: ', conv_1_july_ios)\n",
    "\n",
    "conv_2_july_andr = sum_installs_july_andr / sum_clicks_july_andr *100\n",
    "print('conv_2_july_andr: ', conv_2_july_andr)\n",
    "\n",
    "conv_2_july_ios = sum_installs_july_ios / sum_clicks_july_ios *100\n",
    "print('conv_2_july_ios: ', conv_2_july_ios)\n",
    "\n",
    "conv_3_july_andr = sum_purchases_july_andr / sum_installs_july_andr *100\n",
    "print('conv_3_july_andr: ', conv_3_july_andr)\n",
    "\n",
    "conv_3_july_ios = sum_purchases_july_ios / sum_installs_july_ios *100\n",
    "print('conv_3_july_ios: ', conv_3_july_ios)"
   ]
  },
  {
   "cell_type": "code",
   "execution_count": 28,
   "metadata": {},
   "outputs": [
    {
     "name": "stdout",
     "output_type": "stream",
     "text": [
      "delta_impressions_andr -93.23642885100055\n",
      "delta_impressions_ios -88.59658433228937\n",
      "delta_conv_1_andr:  -6.320289917884814\n",
      "delta_conv_1_ios:  -0.08627091624506378\n",
      "delta_conv_2_andr:  7.634859315814929\n",
      "delta_conv_2_ios:  2.183764539908263\n",
      "delta_conv_3_andr:  54.695685293958086\n",
      "delta_conv_3_ios:  133.48309015126085\n"
     ]
    }
   ],
   "source": [
    "delta_impressions_andr = (sum_impressions_july_andr - sum_impressions_june_andr) / sum_impressions_june_andr * 100\n",
    "print('delta_impressions_andr', delta_impressions_andr)\n",
    "delta_impressions_ios = (sum_impressions_july_ios - sum_impressions_june_ios) / sum_impressions_june_ios * 100\n",
    "print('delta_impressions_ios', delta_impressions_ios)\n",
    "\n",
    "delta_conv_1_andr = (conv_1_july_andr - conv_1_june_andr) / conv_1_june_andr * 100\n",
    "delta_conv_1_ios = (conv_1_july_ios - conv_1_june_ios) / conv_1_june_ios * 100\n",
    "print('delta_conv_1_andr: ', delta_conv_1_andr)\n",
    "print('delta_conv_1_ios: ', delta_conv_1_ios)\n",
    "\n",
    "delta_conv_2_andr = (conv_2_july_andr - conv_2_june_andr) / conv_2_june_andr * 100\n",
    "delta_conv_2_ios = (conv_2_july_ios - conv_2_june_ios) / conv_2_june_ios * 100\n",
    "print('delta_conv_2_andr: ', delta_conv_2_andr)\n",
    "print('delta_conv_2_ios: ', delta_conv_2_ios)\n",
    "\n",
    "delta_conv_3_andr = (conv_3_july_andr - conv_3_june_andr) / conv_3_june_andr * 100\n",
    "delta_conv_3_ios = (conv_3_july_ios - conv_3_june_ios) / conv_3_june_ios * 100\n",
    "print('delta_conv_3_andr: ', delta_conv_3_andr)\n",
    "print('delta_conv_3_ios: ', delta_conv_3_ios)"
   ]
  },
  {
   "cell_type": "markdown",
   "metadata": {},
   "source": [
    "Переменные delta_ это изменения показателей в июле по сравнению с июнем в процентах. Видно, что в июле резко упало число просмотров по сравнению с июнем. Это нельзя объяснить отсутствием части даных в июле, так как данных нет чуть более, чем по половине месяца, а число просмотров упало почти в 15 раз по android и почти в 9 раз по ios. Нужно понять, чем это вызвано... Рекламный бюджет на столько не сократился. Возможно, стали использоваться не эффективные каналы рекламы или есть какие-то другие причины, необходимо разбираться. Конверсия из просмотров в клики незначительно уменьшилась, из кликов в инсталлы - незначительно увеличилась. А вот конверсия из инсталлов в покупки существенно возрасла, особенно для ios, тут компания движется  вправильном направлении."
   ]
  },
  {
   "cell_type": "markdown",
   "metadata": {},
   "source": [
    "     Какие можно дать рекомендации отделу по закупке трафика?... На основе имеющихся у меня данных, можно порекомендовать следующее:\n",
    "    1. Закупать рекламный трафик в странах, в которых хорошие показатели roas и выручки одновременно, для соответствующей операционной системы.\n",
    "    2. Не наращивать или немного наращивать рекламный трафик в странах с хорошим roas, но низкой выручкой, вероятно в них просто маленький рынок и нет смысла много вкладывать в рекламу.\n",
    "    3. Вкладывать по-немногу и оперативно отслеживать отдачу в странах с roas больше примерно 0,8 и меньше 1,2\n",
    "    4. Отказаться от вложений в рекламный трафик в странах, где roas меньше примерно 0,8\n",
    "    5. Особый случай - страны типа US, обладающие большим рынком сбыта, но не приносящие прибыль на данный момент. Надо постараться понять, как выйти на прибыль в них, глубоко проанализировать все нюансы именно по ним, т.к. тут можно хорошо заработать, если научиться доходить до покупателя с минимальными затратами на рекламу.\n",
    "     Ещё один момент - очень низкая конверсия из просмотров в клики, всего 1,5-1,9 процента... Надо разобраться, почему так, возможно, деньги вкладываются в рекламу не для целевой аудитории... Или рекламные материалы недостаточно привлекательны для потенциальных клиентов.\n",
    "    Обладая более полной информацией и видя картину шире изнутри, конечно, можно дать более точные рекомендации.\n",
    "    В реальных условия, конечно же, нужно учитывать расходы фирмы - может оказаться, что даже показателя roas_28d = 1.2 будет недостаточно для получения прибыли организацией из-за высоких расходов, например, на аренду, оплату труда, налоги и т.д.\n",
    "    "
   ]
  },
  {
   "cell_type": "code",
   "execution_count": null,
   "metadata": {},
   "outputs": [],
   "source": []
  }
 ],
 "metadata": {
  "kernelspec": {
   "display_name": "Python 3",
   "language": "python",
   "name": "python3"
  },
  "language_info": {
   "codemirror_mode": {
    "name": "ipython",
    "version": 3
   },
   "file_extension": ".py",
   "mimetype": "text/x-python",
   "name": "python",
   "nbconvert_exporter": "python",
   "pygments_lexer": "ipython3",
   "version": "3.8.3"
  }
 },
 "nbformat": 4,
 "nbformat_minor": 4
}
